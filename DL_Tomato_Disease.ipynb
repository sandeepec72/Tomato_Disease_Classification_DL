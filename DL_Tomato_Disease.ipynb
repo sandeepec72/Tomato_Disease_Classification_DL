{
  "cells": [
    {
      "cell_type": "code",
      "execution_count": 1,
      "metadata": {
        "id": "_FVBAHqn8EO2"
      },
      "outputs": [],
      "source": [
        "import tensorflow as tf\n",
        "from tensorflow.keras import models,layers\n",
        "import matplotlib.pyplot as plt\n",
        "import numpy as np"
      ]
    },
    {
      "cell_type": "code",
      "execution_count": 2,
      "metadata": {
        "colab": {
          "base_uri": "https://localhost:8080/"
        },
        "id": "bXUh50LjYbFB",
        "outputId": "52610fb8-f375-40d7-d975-0289264b59fb"
      },
      "outputs": [
        {
          "output_type": "stream",
          "name": "stdout",
          "text": [
            "Drive already mounted at /content/drive; to attempt to forcibly remount, call drive.mount(\"/content/drive\", force_remount=True).\n"
          ]
        }
      ],
      "source": [
        "from google.colab import drive\n",
        "drive.mount('/content/drive')"
      ]
    },
    {
      "cell_type": "code",
      "execution_count": 3,
      "metadata": {
        "id": "RW0UWlfY8ZBb"
      },
      "outputs": [],
      "source": [
        "IMAGE_SIZE=256\n",
        "BATCH_SIZE=32\n",
        "CHANNELS = 3 #number of layers in CNN\n",
        "EPOCHS = 40"
      ]
    },
    {
      "cell_type": "code",
      "execution_count": 4,
      "metadata": {
        "colab": {
          "base_uri": "https://localhost:8080/"
        },
        "id": "Kv-0E3ih8aGh",
        "outputId": "b6f60d78-a3ff-465d-a72d-0c686e5ef43e"
      },
      "outputs": [
        {
          "output_type": "stream",
          "name": "stdout",
          "text": [
            "Found 16021 files belonging to 10 classes.\n"
          ]
        }
      ],
      "source": [
        "dataset = tf.keras.preprocessing.image_dataset_from_directory(\n",
        "    \"/content/drive/MyDrive/tomato_deepLearning/PlantVillage\",\n",
        "    shuffle=True,\n",
        "    image_size=(IMAGE_SIZE,IMAGE_SIZE),\n",
        "    batch_size=BATCH_SIZE\n",
        ")"
      ]
    },
    {
      "cell_type": "code",
      "execution_count": 5,
      "metadata": {
        "colab": {
          "base_uri": "https://localhost:8080/"
        },
        "id": "ScH5vx1goOkW",
        "outputId": "2f69307f-e8c2-4250-879e-e7e32c3e8d1e"
      },
      "outputs": [
        {
          "output_type": "stream",
          "name": "stdout",
          "text": [
            "10\n"
          ]
        },
        {
          "output_type": "execute_result",
          "data": {
            "text/plain": [
              "['Tomato_Bacterial_spot',\n",
              " 'Tomato_Early_blight',\n",
              " 'Tomato_Late_blight',\n",
              " 'Tomato_Leaf_Mold',\n",
              " 'Tomato_Septoria_leaf_spot',\n",
              " 'Tomato_Spider_mites_Two_spotted_spider_mite',\n",
              " 'Tomato__Target_Spot',\n",
              " 'Tomato__Tomato_YellowLeaf__Curl_Virus',\n",
              " 'Tomato__Tomato_mosaic_virus',\n",
              " 'Tomato_healthy']"
            ]
          },
          "metadata": {},
          "execution_count": 5
        }
      ],
      "source": [
        "class_names = dataset.class_names\n",
        "print(len(class_names))\n",
        "class_names"
      ]
    },
    {
      "cell_type": "code",
      "execution_count": 6,
      "metadata": {
        "colab": {
          "base_uri": "https://localhost:8080/"
        },
        "id": "WCyWp0AHrF3r",
        "outputId": "b54cc6e8-0499-4002-aaab-c04caa6f1ef1"
      },
      "outputs": [
        {
          "output_type": "execute_result",
          "data": {
            "text/plain": [
              "501"
            ]
          },
          "metadata": {},
          "execution_count": 6
        }
      ],
      "source": [
        "len(dataset)"
      ]
    },
    {
      "cell_type": "code",
      "execution_count": 7,
      "metadata": {
        "colab": {
          "base_uri": "https://localhost:8080/"
        },
        "id": "ilJstKsUrPra",
        "outputId": "1af1c490-2ad0-4d69-f58e-97bde9ebd0a2"
      },
      "outputs": [
        {
          "output_type": "execute_result",
          "data": {
            "text/plain": [
              "16032"
            ]
          },
          "metadata": {},
          "execution_count": 7
        }
      ],
      "source": [
        "501*32 #16032 not 16021 because last batch is not complete"
      ]
    },
    {
      "cell_type": "code",
      "execution_count": 8,
      "metadata": {
        "colab": {
          "base_uri": "https://localhost:8080/",
          "height": 969
        },
        "id": "8d32WmoNrSX6",
        "outputId": "dcb4bfff-ea99-4b1c-be0d-ca64bfce9a80"
      },
      "outputs": [
        {
          "output_type": "stream",
          "name": "stdout",
          "text": [
            "(32, 256, 256, 3)\n",
            "[9 6 2 0 5 7 9 4 2 1 7 4 7 7 9 8 2 7 2 2 3 2 7 7 7 1 2 2 0 8 0 6]\n",
            "(32, 256, 256, 3)\n",
            "[9 6 2 0 5 7 9 4 2 1 7 4 7 7 9 8 2 7 2 2 3 2 7 7 7 1 2 2 0 8 0 6]\n",
            "(32, 256, 256, 3)\n",
            "[9 6 2 0 5 7 9 4 2 1 7 4 7 7 9 8 2 7 2 2 3 2 7 7 7 1 2 2 0 8 0 6]\n",
            "(32, 256, 256, 3)\n",
            "[9 6 2 0 5 7 9 4 2 1 7 4 7 7 9 8 2 7 2 2 3 2 7 7 7 1 2 2 0 8 0 6]\n",
            "(32, 256, 256, 3)\n",
            "[9 6 2 0 5 7 9 4 2 1 7 4 7 7 9 8 2 7 2 2 3 2 7 7 7 1 2 2 0 8 0 6]\n",
            "(32, 256, 256, 3)\n",
            "[9 6 2 0 5 7 9 4 2 1 7 4 7 7 9 8 2 7 2 2 3 2 7 7 7 1 2 2 0 8 0 6]\n",
            "(32, 256, 256, 3)\n",
            "[9 6 2 0 5 7 9 4 2 1 7 4 7 7 9 8 2 7 2 2 3 2 7 7 7 1 2 2 0 8 0 6]\n",
            "(32, 256, 256, 3)\n",
            "[9 6 2 0 5 7 9 4 2 1 7 4 7 7 9 8 2 7 2 2 3 2 7 7 7 1 2 2 0 8 0 6]\n",
            "(32, 256, 256, 3)\n",
            "[9 6 2 0 5 7 9 4 2 1 7 4 7 7 9 8 2 7 2 2 3 2 7 7 7 1 2 2 0 8 0 6]\n",
            "(32, 256, 256, 3)\n",
            "[9 6 2 0 5 7 9 4 2 1 7 4 7 7 9 8 2 7 2 2 3 2 7 7 7 1 2 2 0 8 0 6]\n",
            "(32, 256, 256, 3)\n",
            "[9 6 2 0 5 7 9 4 2 1 7 4 7 7 9 8 2 7 2 2 3 2 7 7 7 1 2 2 0 8 0 6]\n",
            "(32, 256, 256, 3)\n",
            "[9 6 2 0 5 7 9 4 2 1 7 4 7 7 9 8 2 7 2 2 3 2 7 7 7 1 2 2 0 8 0 6]\n"
          ]
        },
        {
          "output_type": "display_data",
          "data": {
            "text/plain": [
              "<Figure size 720x720 with 12 Axes>"
            ],
            "image/png": "[encoded data removed]"
          },
          "metadata": {
            "needs_background": "light"
          }
        }
      ],
      "source": [
        "plt.figure(figsize=(10,10))\n",
        "for image_batch,label_batch in dataset.take(1): #take is used to take a limited number of samples from dataset\n",
        "    for i in range(12):\n",
        "        ax=plt.subplot(3,4,i+1)    \n",
        "        print(image_batch.shape)\n",
        "        print(label_batch.numpy())\n",
        "        plt.imshow(image_batch[0].numpy().astype(\"uint8\")) #numpy data is float, but RGB is int thats why uint8 to convert into int\n",
        "        plt.axis(\"off\")\n",
        "        plt.title(class_names[label_batch[0]]) #label_batch[0] gives a number 0,1,2 thatswhy classname to give exact name from list"
      ]
    },
    {
      "cell_type": "code",
      "execution_count": 9,
      "metadata": {
        "id": "5_yaXOOrriDr",
        "colab": {
          "base_uri": "https://localhost:8080/"
        },
        "outputId": "411680d2-9cae-49ba-b1b0-5f0c9477a436"
      },
      "outputs": [
        {
          "output_type": "execute_result",
          "data": {
            "text/plain": [
              "501"
            ]
          },
          "metadata": {},
          "execution_count": 9
        }
      ],
      "source": [
        "len(dataset)\n",
        "#80% ==> training\n",
        "#20% ==> 10% validation, 10% test"
      ]
    },
    {
      "cell_type": "code",
      "execution_count": 10,
      "metadata": {
        "id": "Y36fCWhSsbG7"
      },
      "outputs": [],
      "source": [
        "def get_dataset_partitions_tf(ds, train_split=0.3, val_split=0.05, test_split=0.05,shuffle=True, shuffle_size=150):\n",
        "    \n",
        "    ds_size = len(ds)\n",
        "    if shuffle:\n",
        "        ds = ds.shuffle(shuffle_size, seed=12)\n",
        "\n",
        "    train_size = int(train_split*ds_size)\n",
        "    val_size = int(val_split*ds_size)\n",
        "    test_size = int(test_split*ds_size)\n",
        "\n",
        "    train_ds = dataset.take(train_size)\n",
        "    val_ds = ds.skip(train_size).take(val_size)\n",
        "    test_ds = ds.skip(train_size).skip(val_size).take(test_size)\n",
        "\n",
        "    return train_ds, val_ds, test_ds"
      ]
    },
    {
      "cell_type": "code",
      "execution_count": 11,
      "metadata": {
        "id": "v5uzg56RsmUa"
      },
      "outputs": [],
      "source": [
        "train_ds, val_ds, test_ds = get_dataset_partitions_tf(dataset)"
      ]
    },
    {
      "cell_type": "code",
      "execution_count": 12,
      "metadata": {
        "id": "FTDhQd7vspHq",
        "colab": {
          "base_uri": "https://localhost:8080/"
        },
        "outputId": "a7489b7a-b326-4b24-f499-bc3951ea648a"
      },
      "outputs": [
        {
          "output_type": "execute_result",
          "data": {
            "text/plain": [
              "150"
            ]
          },
          "metadata": {},
          "execution_count": 12
        }
      ],
      "source": [
        "len(train_ds)"
      ]
    },
    {
      "cell_type": "code",
      "execution_count": 13,
      "metadata": {
        "id": "-xJ_YGuVstPZ",
        "colab": {
          "base_uri": "https://localhost:8080/"
        },
        "outputId": "2b7f188d-7f2f-4aaa-b8a1-397aacaa1eb5"
      },
      "outputs": [
        {
          "output_type": "execute_result",
          "data": {
            "text/plain": [
              "25"
            ]
          },
          "metadata": {},
          "execution_count": 13
        }
      ],
      "source": [
        "len(val_ds)"
      ]
    },
    {
      "cell_type": "code",
      "execution_count": 14,
      "metadata": {
        "id": "gWnBXWmssuaK",
        "colab": {
          "base_uri": "https://localhost:8080/"
        },
        "outputId": "0918ac05-28d7-4867-e74a-dee1e43560f6"
      },
      "outputs": [
        {
          "output_type": "execute_result",
          "data": {
            "text/plain": [
              "25"
            ]
          },
          "metadata": {},
          "execution_count": 14
        }
      ],
      "source": [
        "len(test_ds)"
      ]
    },
    {
      "cell_type": "code",
      "execution_count": 15,
      "metadata": {
        "id": "-rK2zc-xswTJ"
      },
      "outputs": [],
      "source": [
        "train_ds = train_ds.cache().shuffle(150).prefetch(buffer_size = tf.data.AUTOTUNE)\n",
        "val_ds = val_ds.cache().shuffle(150).prefetch(buffer_size = tf.data.AUTOTUNE)\n",
        "test_ds = test_ds.cache().shuffle(150).prefetch(buffer_size = tf.data.AUTOTUNE)"
      ]
    },
    {
      "cell_type": "code",
      "execution_count": 16,
      "metadata": {
        "id": "nquFE0mSs18J"
      },
      "outputs": [],
      "source": [
        "resize_and_rescale = tf.keras.Sequential([\n",
        "    layers.experimental.preprocessing.Resizing(IMAGE_SIZE,IMAGE_SIZE), #whenever new image is fed to the system, \n",
        "    #to compare with the dataset available, it will resize it to the same size as that of our sample images                                        \n",
        "    layers.experimental.preprocessing.Rescaling(1.0/255) #Noramalization\n",
        "])"
      ]
    },
    {
      "cell_type": "code",
      "execution_count": 17,
      "metadata": {
        "id": "4PQp-XZFs45q"
      },
      "outputs": [],
      "source": [
        "data_augmentation = tf.keras.Sequential([\n",
        "    layers.experimental.preprocessing.RandomFlip(\"horizontal_and_vertical\"),\n",
        "    layers.experimental.preprocessing.RandomRotation(0.1),\n",
        "])"
      ]
    },
    {
      "cell_type": "code",
      "execution_count": 18,
      "metadata": {
        "id": "BOKQMFXns62K"
      },
      "outputs": [],
      "source": [
        "input_shape=(BATCH_SIZE,IMAGE_SIZE,IMAGE_SIZE,CHANNELS)\n",
        "n_classes=10\n",
        "\n",
        "model = models.Sequential([\n",
        "    resize_and_rescale,\n",
        "    data_augmentation,\n",
        "    layers.Conv2D(32,(3,3), activation='relu', input_shape=input_shape),\n",
        "    layers.MaxPool2D((2,2)),\n",
        "    layers.Conv2D(64, kernel_size= (3,3), activation='relu'),\n",
        "    layers.MaxPool2D((2,2)),\n",
        "    layers.Conv2D(64, kernel_size= (3,3), activation='relu'),\n",
        "    layers.MaxPool2D((2,2)),\n",
        "    layers.Conv2D(64,(3,3), activation='relu'),\n",
        "    layers.MaxPool2D((2,2)),\n",
        "    layers.Conv2D(64,(3,3), activation='relu'),\n",
        "    layers.MaxPool2D((2,2)),\n",
        "    layers.Conv2D(64,(3,3), activation='relu'),\n",
        "    layers.MaxPool2D((2,2)),\n",
        "    layers.Flatten(),\n",
        "    layers.Dense(64, activation='relu'),\n",
        "    layers.Dense(n_classes, activation='softmax'), #softmax normalizes the probability of the classes\n",
        "])\n",
        "\n",
        "model.build(input_shape=input_shape)"
      ]
    },
    {
      "cell_type": "code",
      "execution_count": 19,
      "metadata": {
        "colab": {
          "base_uri": "https://localhost:8080/"
        },
        "id": "vih1u98_s9Ma",
        "outputId": "51db9c75-6a62-49d6-e2cd-8fae72c8c01b"
      },
      "outputs": [
        {
          "output_type": "stream",
          "name": "stdout",
          "text": [
            "Model: \"sequential_2\"\n",
            "_________________________________________________________________\n",
            " Layer (type)                Output Shape              Param #   \n",
            "=================================================================\n",
            " sequential (Sequential)     (32, 256, 256, 3)         0         \n",
            "                                                                 \n",
            " sequential_1 (Sequential)   (32, 256, 256, 3)         0         \n",
            "                                                                 \n",
            " conv2d (Conv2D)             (32, 254, 254, 32)        896       \n",
            "                                                                 \n",
            " max_pooling2d (MaxPooling2D  (32, 127, 127, 32)       0         \n",
            " )                                                               \n",
            "                                                                 \n",
            " conv2d_1 (Conv2D)           (32, 125, 125, 64)        18496     \n",
            "                                                                 \n",
            " max_pooling2d_1 (MaxPooling  (32, 62, 62, 64)         0         \n",
            " 2D)                                                             \n",
            "                                                                 \n",
            " conv2d_2 (Conv2D)           (32, 60, 60, 64)          36928     \n",
            "                                                                 \n",
            " max_pooling2d_2 (MaxPooling  (32, 30, 30, 64)         0         \n",
            " 2D)                                                             \n",
            "                                                                 \n",
            " conv2d_3 (Conv2D)           (32, 28, 28, 64)          36928     \n",
            "                                                                 \n",
            " max_pooling2d_3 (MaxPooling  (32, 14, 14, 64)         0         \n",
            " 2D)                                                             \n",
            "                                                                 \n",
            " conv2d_4 (Conv2D)           (32, 12, 12, 64)          36928     \n",
            "                                                                 \n",
            " max_pooling2d_4 (MaxPooling  (32, 6, 6, 64)           0         \n",
            " 2D)                                                             \n",
            "                                                                 \n",
            " conv2d_5 (Conv2D)           (32, 4, 4, 64)            36928     \n",
            "                                                                 \n",
            " max_pooling2d_5 (MaxPooling  (32, 2, 2, 64)           0         \n",
            " 2D)                                                             \n",
            "                                                                 \n",
            " flatten (Flatten)           (32, 256)                 0         \n",
            "                                                                 \n",
            " dense (Dense)               (32, 64)                  16448     \n",
            "                                                                 \n",
            " dense_1 (Dense)             (32, 10)                  650       \n",
            "                                                                 \n",
            "=================================================================\n",
            "Total params: 184,202\n",
            "Trainable params: 184,202\n",
            "Non-trainable params: 0\n",
            "_________________________________________________________________\n"
          ]
        }
      ],
      "source": [
        "model.summary()"
      ]
    },
    {
      "cell_type": "code",
      "execution_count": 20,
      "metadata": {
        "id": "5TenDeKutCFZ"
      },
      "outputs": [],
      "source": [
        "model.compile(\n",
        "    optimizer='adam',\n",
        "    loss=tf.keras.losses.SparseCategoricalCrossentropy(from_logits=False),\n",
        "    metrics=['accuracy']\n",
        "\n",
        ")"
      ]
    },
    {
      "cell_type": "code",
      "execution_count": null,
      "metadata": {
        "colab": {
          "background_save": true,
          "base_uri": "https://localhost:8080/"
        },
        "id": "Btv2ulh_tP46",
        "outputId": "ab877cd6-f228-4647-cc7f-58ba26300a37"
      },
      "outputs": [
        {
          "output_type": "stream",
          "name": "stdout",
          "text": [
            "Epoch 1/40\n",
            "150/150 [==============================] - ETA: 0s - loss: 1.9373 - accuracy: 0.2850"
          ]
        }
      ],
      "source": [
        "history = model.fit(\n",
        "    train_ds,\n",
        "    epochs=EPOCHS,\n",
        "    batch_size=BATCH_SIZE,\n",
        "    verbose=1,\n",
        "    validation_data=val_ds\n",
        ")"
      ]
    },
    {
      "cell_type": "code",
      "execution_count": null,
      "metadata": {
        "id": "uXfta_7MtR-J"
      },
      "outputs": [],
      "source": [
        "scores = model.evaluate(test_ds)"
      ]
    },
    {
      "cell_type": "code",
      "execution_count": null,
      "metadata": {
        "id": "kW5-FX3vQfUi"
      },
      "outputs": [],
      "source": [
        "scores"
      ]
    },
    {
      "cell_type": "code",
      "execution_count": null,
      "metadata": {
        "id": "qls8zkwOQj9Y"
      },
      "outputs": [],
      "source": [
        "history"
      ]
    },
    {
      "cell_type": "code",
      "execution_count": null,
      "metadata": {
        "id": "xx2n89_3QpdG"
      },
      "outputs": [],
      "source": [
        "history.params"
      ]
    },
    {
      "cell_type": "code",
      "execution_count": null,
      "metadata": {
        "id": "I4FJCzYgQtLm"
      },
      "outputs": [],
      "source": [
        "history.history.keys()"
      ]
    },
    {
      "cell_type": "code",
      "execution_count": null,
      "metadata": {
        "id": "yqCNBPF-Qvjt"
      },
      "outputs": [],
      "source": [
        "history.history['accuracy']"
      ]
    },
    {
      "cell_type": "code",
      "execution_count": null,
      "metadata": {
        "id": "qW7g-IXpQztk"
      },
      "outputs": [],
      "source": [
        "acc = history.history['accuracy']\n",
        "val_acc= history.history['val_accuracy']\n",
        "loss=history.history['loss']\n",
        "val_loss=history.history['val_loss']"
      ]
    },
    {
      "cell_type": "code",
      "execution_count": null,
      "metadata": {
        "id": "4dp428EJQ16M"
      },
      "outputs": [],
      "source": [
        "plt.figure(figsize=(8,8))\n",
        "plt.subplot(1,2,1)\n",
        "plt.plot(range(EPOCHS),acc,label='Training Accuracy')\n",
        "plt.plot(range(EPOCHS),val_acc,label='Validation Accuracy')\n",
        "plt.legend(loc='lower right')\n",
        "plt.title('Training and Validation accuracy')\n",
        "\n",
        "plt.subplot(1,2,2)\n",
        "plt.plot(range(EPOCHS),loss,label='Training loss')\n",
        "plt.plot(range(EPOCHS),val_loss,label='Validation Loss')\n",
        "plt.legend(loc='lower right')\n",
        "plt.title('Training and Validation Loss')"
      ]
    },
    {
      "cell_type": "code",
      "execution_count": null,
      "metadata": {
        "id": "nMKAvQSFQ3Ks"
      },
      "outputs": [],
      "source": [
        "for images_batch, labels_batch in test_ds.take(1):\n",
        "    first_image = images_batch[0].numpy().astype('uint8')\n",
        "    first_label = labels_batch[0].numpy()\n",
        "\n",
        "    print(\"first image to predict\")\n",
        "    plt.imshow(first_image)\n",
        "    print(\"first image's actual label: \", class_names[first_label])\n",
        "\n",
        "    batch_prediction = model.predict(images_batch) #predicts for full batch of 32\n",
        "    print(\"predicted\",class_names[np.argmax(batch_prediction[0])]) # picking first photo prediction, and from probability getting label of prediction"
      ]
    },
    {
      "cell_type": "code",
      "execution_count": null,
      "metadata": {
        "id": "ExTS8iMSRB4H"
      },
      "outputs": [],
      "source": [
        "def predict(model,img):\n",
        "    img_array = tf.keras.preprocessing.image.img_to_array(images[i].numpy())\n",
        "    img_array = tf.expand_dims(img_array,0) #create a batch\n",
        "\n",
        "    predictions = model.predict(img_array)\n",
        "\n",
        "    predicted_class = class_names[np.argmax(predictions[0])]\n",
        "    confidence = round(100*(np.max(predictions[0])),2)\n",
        "    return predicted_class, confidence"
      ]
    },
    {
      "cell_type": "code",
      "execution_count": null,
      "metadata": {
        "id": "W_iIdc1sRFWQ"
      },
      "outputs": [],
      "source": [
        "plt.figure(figsize=(15,15))\n",
        "for images, labels in test_ds.take(1):\n",
        "    for i in range(9):\n",
        "        ax = plt.subplot(3,3,i+1)\n",
        "        plt.imshow(images[i].numpy().astype(\"uint8\"))\n",
        "\n",
        "        predicted_class,confidence = predict(model, images[i].numpy())\n",
        "        actual_class = class_names[labels[i]]\n",
        "\n",
        "        plt.title(f\"Actual: {actual_class},\\n Predicted: {predicted_class}.\\n Confidence: {confidence}\")\n",
        "\n",
        "        plt.axis(\"off\")"
      ]
    },
    {
      "cell_type": "code",
      "execution_count": null,
      "metadata": {
        "id": "u5CkU6xaRIGT"
      },
      "outputs": [],
      "source": [
        "!mkdir -p saved_tomato_model"
      ]
    },
    {
      "cell_type": "code",
      "execution_count": null,
      "metadata": {
        "id": "cS2c3IdPRRRh"
      },
      "outputs": [],
      "source": [
        "print(os.listdir(\"saved_tomato_model\"))"
      ]
    },
    {
      "cell_type": "code",
      "execution_count": null,
      "metadata": {
        "id": "O037i1ONRT1T"
      },
      "outputs": [],
      "source": [
        "!ls"
      ]
    },
    {
      "cell_type": "code",
      "execution_count": null,
      "metadata": {
        "id": "zo2HybAoRayc"
      },
      "outputs": [],
      "source": [
        "model_version=1\n",
        "model.save(f\"saved_tomato_model/{model_version}\")"
      ]
    },
    {
      "cell_type": "code",
      "execution_count": null,
      "metadata": {
        "id": "DZ2X2dTZRfvr"
      },
      "outputs": [],
      "source": [
        "import os\n",
        "model_version =max([int(i) for i in os.listdir(\"saved_tomato_model\")+[0]])+1\n",
        "model.save(f\"saved_tomato_model/{model_version}\")"
      ]
    },
    {
      "cell_type": "code",
      "execution_count": null,
      "metadata": {
        "id": "h5_AHaJkRmhw"
      },
      "outputs": [],
      "source": [
        "!ls"
      ]
    },
    {
      "cell_type": "code",
      "execution_count": null,
      "metadata": {
        "id": "ru5zv3QyRw2E"
      },
      "outputs": [],
      "source": [
        "!cp -r \"/content/saved_tomato_model\" \"/content/drive/MyDrive/tomato_deepLearning\""
      ]
    }
  ],
  "metadata": {
    "accelerator": "TPU",
    "colab": {
      "collapsed_sections": [],
      "name": "DL_Tomato_Disease.ipynb",
      "provenance": []
    },
    "gpuClass": "standard",
    "kernelspec": {
      "display_name": "Python 3",
      "name": "python3"
    },
    "language_info": {
      "name": "python"
    }
  },
  "nbformat": 4,
  "nbformat_minor": 0
}